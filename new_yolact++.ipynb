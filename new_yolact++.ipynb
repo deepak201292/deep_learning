{
  "nbformat": 4,
  "nbformat_minor": 0,
  "metadata": {
    "colab": {
      "name": "new_yolact++.ipynb",
      "provenance": []
    },
    "kernelspec": {
      "name": "python3",
      "display_name": "Python 3"
    },
    "language_info": {
      "name": "python"
    },
    "accelerator": "GPU"
  },
  "cells": [
    {
      "cell_type": "code",
      "metadata": {
        "id": "49rR8vkfIVr8"
      },
      "source": [
        "# Cython needs to be installed before pycocotools\n",
        "!pip install cython\n",
        "!pip install opencv-python pillow pycocotools matplotlib"
      ],
      "execution_count": null,
      "outputs": []
    },
    {
      "cell_type": "code",
      "metadata": {
        "id": "NAjya_RZIXd4"
      },
      "source": [
        "# Downgrade torch to accommodate DCNv2\n",
        "!pip install torchvision==0.5.0\n",
        "!pip install torch==1.4.0"
      ],
      "execution_count": null,
      "outputs": []
    },
    {
      "cell_type": "code",
      "metadata": {
        "id": "cExde38YJkb8"
      },
      "source": [
        "# Make sure we're in the top folder\n",
        "%cd /content\n",
        "\n",
        "# Clone the repo\n",
        "!git clone https://github.com/dbolya/yolact.git"
      ],
      "execution_count": null,
      "outputs": []
    },
    {
      "cell_type": "code",
      "metadata": {
        "id": "zwGRzj3qJvwR"
      },
      "source": [
        "# Change to the right directory\n",
        "%cd /content/yolact/external/DCNv2\n",
        "\n",
        "# Build DCNv2\n",
        "!python setup.py build develop"
      ],
      "execution_count": null,
      "outputs": []
    },
    {
      "cell_type": "code",
      "metadata": {
        "id": "KkZYTh5zKG0e"
      },
      "source": [
        "# Make sure we're in the top folder\n",
        "%cd /content\n",
        "\n",
        "# Clone the repo\n",
        "!git clone https://github.com/chentinghao/download_google_drive.git\n",
        "\n",
        "# Create a new directory for the pre-trained weights\n",
        "!mkdir -p /content/yolact/weights\n",
        "\n",
        "# Download the file\n",
        "!python ./download_google_drive/download_gdrive.py 1ZPu1YR2UzGHQD0o1rEqy-j5bmEm3lbyP ./yolact/weights/yolact_plus_resnet50_54_800000.pth"
      ],
      "execution_count": null,
      "outputs": []
    },
    {
      "cell_type": "code",
      "metadata": {
        "id": "FGcvD6ZWKIYd"
      },
      "source": [
        "# Make a new directory for the test images\n",
        "!mkdir /content/test_images\n",
        "\n",
        "# Move to the new directory\n",
        "%cd /content/test_images\n",
        "\n",
        "# Make a list of URLs from the COCO dataset\n",
        "get_imgs = ['http://farm8.staticflickr.com/7200/6946559805_7edf757660_z.jpg',\n",
        "            'http://farm3.staticflickr.com/2835/9520716824_51220b13d0_z.jpg',\n",
        "            'http://farm3.staticflickr.com/2817/10105052924_0c8d79e62c_z.jpg',\n",
        "            'https://farm3.staticflickr.com/2637/3679968895_37a79e55b3_z.jpg',\n",
        "            'https://farm8.staticflickr.com/7137/7705349298_6bea29cf1c_z.jpg',\n",
        "            'http://farm5.staticflickr.com/4105/4981945644_3f162314ed_z.jpg',\n",
        "            'http://farm1.staticflickr.com/40/101757885_a8fc40e273_z.jpg',\n",
        "            'http://farm3.staticflickr.com/2654/3897535041_fa8dd5570b_z.jpg']\n",
        "\n",
        "# Download all the images\n",
        "for img_url in get_imgs:\n",
        "  !wget {img_url} -nc\n",
        "\n",
        "# List the contents of the folder. Should have images.\n",
        "!pwd\n",
        "!ls"
      ],
      "execution_count": null,
      "outputs": []
    },
    {
      "cell_type": "code",
      "metadata": {
        "id": "9-xid7axKPfE"
      },
      "source": [
        "# Move up to the top level directory\n",
        "%cd /content\n",
        "\n",
        "# Delete any previous output_images folder (in case we're running this more than once)\n",
        "!rm /content/output_images -r\n",
        "\n",
        "# Create a new directory for output images\n",
        "!mkdir -p /content/output_images\n",
        "\n",
        "# Run inference using our pre-trained weights on all images in the directory\n",
        "!python ./yolact/eval.py --trained_model=./yolact/weights/yolact_plus_resnet50_54_800000.pth --config=yolact_plus_resnet50_config --score_threshold=0.15 --top_k=15 --images=test_images:output_images"
      ],
      "execution_count": null,
      "outputs": []
    },
    {
      "cell_type": "code",
      "metadata": {
        "id": "z_OQ8dyQKX0J"
      },
      "source": [
        "import cv2\n",
        "import numpy as np\n",
        "from matplotlib import pyplot as plt\n",
        "from pathlib import Path\n",
        "\n",
        "output_images = Path('output_images')\n",
        "\n",
        "def show_image(img_path):\n",
        "  img = cv2.imread(img_path)\n",
        "  img_cvt=cv2.cvtColor(img, cv2.COLOR_BGR2RGB)\n",
        "  plt.figure(figsize=(16,16))\n",
        "  plt.imshow(img_cvt)\n",
        "  plt.show()\n",
        "\n",
        "# Iterate through all of the output images and display them\n",
        "for img_path in output_images.iterdir():\n",
        "  print(img_path)\n",
        "  show_image(str(img_path))"
      ],
      "execution_count": null,
      "outputs": []
    }
  ]
}