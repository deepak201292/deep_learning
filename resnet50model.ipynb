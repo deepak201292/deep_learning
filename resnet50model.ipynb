{
  "nbformat": 4,
  "nbformat_minor": 0,
  "metadata": {
    "colab": {
      "name": "resnet50model.ipynb",
      "provenance": []
    },
    "kernelspec": {
      "name": "python3",
      "display_name": "Python 3"
    },
    "language_info": {
      "name": "python"
    },
    "accelerator": "GPU"
  },
  "cells": [
    {
      "cell_type": "code",
      "metadata": {
        "id": "VkSm1hShO5_-"
      },
      "source": [
        "# ResNet50\n",
        " \n",
        "from tensorflow.keras.applications.resnet50 import ResNet50\n",
        "from tensorflow.keras.applications.resnet50 import decode_predictions\n",
        "from keras.applications.resnet50 import preprocess_input"
      ],
      "execution_count": null,
      "outputs": []
    },
    {
      "cell_type": "code",
      "metadata": {
        "id": "AnghVZEVO9Ec"
      },
      "source": [
        "from keras.preprocessing import image\n",
        "import numpy as np\n",
        "import matplotlib.pyplot as plt\n",
        "import os\n",
        "from os import listdir\n",
        "from PIL import Image as PImage"
      ],
      "execution_count": null,
      "outputs": []
    },
    {
      "cell_type": "code",
      "metadata": {
        "id": "UDJrEVwRPGbt"
      },
      "source": [
        "img_width, img_height = 224, 224"
      ],
      "execution_count": null,
      "outputs": []
    },
    {
      "cell_type": "code",
      "metadata": {
        "id": "ryTb9SG7PwT7"
      },
      "source": [
        "model_pretrained = ResNet50(weights='imagenet', \n",
        "                      include_top=True, \n",
        "                      input_shape=(img_height, img_width, 3))"
      ],
      "execution_count": null,
      "outputs": []
    },
    {
      "cell_type": "code",
      "metadata": {
        "id": "Y5upmwBjP0zK"
      },
      "source": [
        "# Insert correct path of your image below\n",
        "img_path = '/content/lemon.jpg'\n",
        "img = image.load_img(img_path, target_size=(img_width, img_height))\n",
        "img_data = image.img_to_array(img)\n",
        "img_data = np.expand_dims(img_data, axis=0)\n",
        "img_data = preprocess_input(img_data)"
      ],
      "execution_count": null,
      "outputs": []
    },
    {
      "cell_type": "code",
      "metadata": {
        "id": "VK4Z9mKaQTf_"
      },
      "source": [
        "#predict the result\n",
        "cnn_feature = model_pretrained.predict(img_data,verbose=0)\n",
        "# decode the results into a list of tuples (class, description, probability)\n",
        "label = decode_predictions(cnn_feature)\n",
        "label = label[0][0]"
      ],
      "execution_count": null,
      "outputs": []
    },
    {
      "cell_type": "code",
      "metadata": {
        "id": "DksSfrl5QYKk"
      },
      "source": [
        "plt.imshow(img)\n",
        " \n",
        "stringprint =\"%.1f\" % round(label[2]*100,1)\n",
        "plt.title(label[1] + \" \" + str(stringprint) + \"%\", fontsize=20)\n",
        "plt.axis('off')\n",
        "plt.show()\n",
        " \n"
      ],
      "execution_count": null,
      "outputs": []
    },
    {
      "cell_type": "code",
      "metadata": {
        "id": "aL_oqN0pRLKk"
      },
      "source": [
        ""
      ],
      "execution_count": null,
      "outputs": []
    }
  ]
}