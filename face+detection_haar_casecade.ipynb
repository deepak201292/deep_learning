{
  "nbformat": 4,
  "nbformat_minor": 0,
  "metadata": {
    "colab": {
      "name": "face+detection_haar_casecade.ipynb",
      "provenance": []
    },
    "kernelspec": {
      "name": "python3",
      "display_name": "Python 3"
    },
    "language_info": {
      "name": "python"
    },
    "accelerator": "GPU"
  },
  "cells": [
    {
      "cell_type": "code",
      "metadata": {
        "id": "jApxYjF3GrO_"
      },
      "source": [
        "#1st downlord the  \"haarcascade_frontalface_default.xml\" file from github\n",
        "# the take one image from your laptop\n",
        "# uploard both the thing into the colab in file section\n",
        "#then import cv2 and matplotlib\n",
        "# Load trained cascade classifier"
      ],
      "execution_count": null,
      "outputs": []
    },
    {
      "cell_type": "code",
      "metadata": {
        "id": "PMNs61C0bkby"
      },
      "source": [
        "# import OpenCV\n",
        "import cv2\n",
        "#import matplotlib\n",
        "from matplotlib import pyplot as plt"
      ],
      "execution_count": null,
      "outputs": []
    },
    {
      "cell_type": "code",
      "metadata": {
        "id": "gYm8OMUqqQss"
      },
      "source": [
        "# Load trained cascade classifier\n",
        "face_cascade = cv2.CascadeClassifier('haarcascade_frontalface_default.xml')"
      ],
      "execution_count": null,
      "outputs": []
    },
    {
      "cell_type": "code",
      "metadata": {
        "id": "qEsH3PzsqlpE"
      },
      "source": [
        "# Read the given image\n",
        "color_image = cv2.imread('IMG20190830162900.jpg')"
      ],
      "execution_count": null,
      "outputs": []
    },
    {
      "cell_type": "code",
      "metadata": {
        "id": "qMXNqNaFAy8y"
      },
      "source": [
        "# Convert color image into grayscale\n",
        "gray_image = cv2.cvtColor(color_image, cv2.COLOR_BGR2GRAY)"
      ],
      "execution_count": null,
      "outputs": []
    },
    {
      "cell_type": "code",
      "metadata": {
        "id": "JmOZMRPiA3ix"
      },
      "source": [
        "# Detect faces ROI\n",
        "#Syntax: Classifier.detectMultiScale(input image, Scale Factor , Min Neighbors)\n",
        "faces = face_cascade.detectMultiScale(gray_image, 1.1, 5)"
      ],
      "execution_count": null,
      "outputs": []
    },
    {
      "cell_type": "code",
      "metadata": {
        "id": "qdzmNV16A7Sf"
      },
      "source": [
        "# Draw rectangle around the faces\n",
        "for (x, y, w, h) in faces:\n",
        "    cv2.rectangle(color_image, (x, y), (x + w, y + h), (0, 0, 255), 4)"
      ],
      "execution_count": null,
      "outputs": []
    },
    {
      "cell_type": "code",
      "metadata": {
        "id": "jyWhBKYaEhJG"
      },
      "source": [
        "plt.imshow(color_image)"
      ],
      "execution_count": null,
      "outputs": []
    },
    {
      "cell_type": "code",
      "metadata": {
        "id": "cq8g8czLEoZ9"
      },
      "source": [
        ""
      ],
      "execution_count": null,
      "outputs": []
    }
  ]
}