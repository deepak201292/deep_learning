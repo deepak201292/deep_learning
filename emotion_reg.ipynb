{
  "nbformat": 4,
  "nbformat_minor": 0,
  "metadata": {
    "colab": {
      "name": "emotion_reg.ipynb",
      "provenance": []
    },
    "kernelspec": {
      "name": "python3",
      "display_name": "Python 3"
    },
    "language_info": {
      "name": "python"
    },
    "accelerator": "GPU"
  },
  "cells": [
    {
      "cell_type": "code",
      "metadata": {
        "id": "0ZBJvmLyEviI"
      },
      "source": [
        "#import important library\n",
        "#load the image folder in google drive from laptop\n",
        "#to read the image from drive copy the path of image folder\n",
        "#in this folder there are so many different image folder are there so read the--\n",
        "#each folder image run for loop\n",
        "#is main jo model liye hain us ka input image ka size 224 hai...\n",
        "#isliye har image ka size 224 karna hoga...\n",
        "#or jo image predict krna h us ka v size ko 224 karna hoga\n",
        "#  "
      ],
      "execution_count": null,
      "outputs": []
    },
    {
      "cell_type": "code",
      "metadata": {
        "id": "tT3wk4aXwkdA"
      },
      "source": [
        "import numpy as np\n",
        "import pandas as pd\n",
        "import matplotlib.pyplot as plt\n",
        "import cv2\n",
        "import tensorflow as tf\n",
        "import os"
      ],
      "execution_count": 1,
      "outputs": []
    },
    {
      "cell_type": "code",
      "metadata": {
        "id": "6lKrGSKNxBcd"
      },
      "source": [
        "img_array=cv2.imread('/content/drive/MyDrive/fer_new/train/0/Training_143373.jpg')"
      ],
      "execution_count": 2,
      "outputs": []
    },
    {
      "cell_type": "code",
      "metadata": {
        "colab": {
          "base_uri": "https://localhost:8080/"
        },
        "id": "NObH-iwfxYWi",
        "outputId": "d3cc7a4f-2ff5-4fe6-cb33-a34ad9b33cdc"
      },
      "source": [
        "img_array.shape"
      ],
      "execution_count": 3,
      "outputs": [
        {
          "output_type": "execute_result",
          "data": {
            "text/plain": [
              "(48, 48, 3)"
            ]
          },
          "metadata": {
            "tags": []
          },
          "execution_count": 3
        }
      ]
    },
    {
      "cell_type": "code",
      "metadata": {
        "colab": {
          "base_uri": "https://localhost:8080/",
          "height": 284
        },
        "id": "SyvdAqoGxbvz",
        "outputId": "b388666d-61c6-49be-e47e-2c3f59e0f4b0"
      },
      "source": [
        "plt.imshow(img_array)"
      ],
      "execution_count": 4,
      "outputs": [
        {
          "output_type": "execute_result",
          "data": {
            "text/plain": [
              "<matplotlib.image.AxesImage at 0x7f5616eec410>"
            ]
          },
          "metadata": {
            "tags": []
          },
          "execution_count": 4
        },
        {
          "output_type": "display_data",
          "data": {
            "image/png": "[encoded data removed]",
            "text/plain": [
              "<Figure size 432x288 with 1 Axes>"
            ]
          },
          "metadata": {
            "tags": [],
            "needs_background": "light"
          }
        }
      ]
    },
    {
      "cell_type": "code",
      "metadata": {
        "id": "z6PKMNkmxfa1"
      },
      "source": [
        "Datadirectory='/content/drive/MyDrive/fer_new/train'"
      ],
      "execution_count": 5,
      "outputs": []
    },
    {
      "cell_type": "code",
      "metadata": {
        "id": "EVq8zvaxxo1Q"
      },
      "source": [
        "Classes=['0','1','2','3','4','5','6']"
      ],
      "execution_count": 6,
      "outputs": []
    },
    {
      "cell_type": "code",
      "metadata": {
        "colab": {
          "base_uri": "https://localhost:8080/",
          "height": 284
        },
        "id": "zIiQFR6jxwbi",
        "outputId": "19caab3a-808e-471b-f4a0-aedd23bbe566"
      },
      "source": [
        "for category in Classes:\n",
        "    path=os.path.join(Datadirectory,category)\n",
        "    for img in os.listdir(path):\n",
        "        print(img)        \n",
        "        img_array=cv2.imread(os.path.join(path,img))\n",
        "        #backtorgb = cv2.cvtColor(img_array,cv2.COLOR_GRAY2RGB)\n",
        "        #plt.imshow(cv2.cvtColor(img_array,cv2.COLOR_GRAY2RGB))\n",
        "        plt.imshow(img_array)\n",
        "        plt.show()           \n",
        "        break\n",
        "    break"
      ],
      "execution_count": 7,
      "outputs": [
        {
          "output_type": "stream",
          "text": [
            "Training_247656.jpg\n"
          ],
          "name": "stdout"
        },
        {
          "output_type": "display_data",
          "data": {
            "image/png": "[encoded data removed]",
            "text/plain": [
              "<Figure size 432x288 with 1 Axes>"
            ]
          },
          "metadata": {
            "tags": [],
            "needs_background": "light"
          }
        }
      ]
    },
    {
      "cell_type": "code",
      "metadata": {
        "colab": {
          "base_uri": "https://localhost:8080/",
          "height": 269
        },
        "id": "Xbq-Cr_4x0WJ",
        "outputId": "23eac1e9-cec3-4070-9dd1-63583d0a3bfa"
      },
      "source": [
        "img_size =224\n",
        "new_array=cv2.resize(img_array,(img_size,img_size))\n",
        "plt.imshow(cv2.cvtColor(new_array, cv2.COLOR_BGR2RGB))\n",
        "plt.show()"
      ],
      "execution_count": 8,
      "outputs": [
        {
          "output_type": "display_data",
          "data": {
            "image/png": "[encoded data removed]",
            "text/plain": [
              "<Figure size 432x288 with 1 Axes>"
            ]
          },
          "metadata": {
            "tags": [],
            "needs_background": "light"
          }
        }
      ]
    },
    {
      "cell_type": "code",
      "metadata": {
        "id": "BVGUvWMvx6wT"
      },
      "source": [
        "training_Data =[]\n",
        "\n",
        "def create_training_Data():\n",
        "    for category in Classes:\n",
        "        path=os.path.join(Datadirectory,category)\n",
        "        class_num=Classes.index(category)\n",
        "        for img in os.listdir(path):\n",
        "            try:\n",
        "                img_array= cv2.imread(os.path.join(path,img))\n",
        "                new_array=cv2.resize(img_array,(img_size,img_size))\n",
        "                training_Data.append([new_array,class_num])\n",
        "            except Exception as e:\n",
        "                pass"
      ],
      "execution_count": 9,
      "outputs": []
    },
    {
      "cell_type": "code",
      "metadata": {
        "id": "VZbIxFuUyAmb"
      },
      "source": [
        "create_training_Data()"
      ],
      "execution_count": 10,
      "outputs": []
    },
    {
      "cell_type": "code",
      "metadata": {
        "colab": {
          "base_uri": "https://localhost:8080/"
        },
        "id": "8SJ6ktakyEQC",
        "outputId": "53b4bfcc-0ee5-4da8-c4d5-a69e08c4f6a1"
      },
      "source": [
        "print(len(training_Data))"
      ],
      "execution_count": 11,
      "outputs": [
        {
          "output_type": "stream",
          "text": [
            "140\n"
          ],
          "name": "stdout"
        }
      ]
    },
    {
      "cell_type": "code",
      "metadata": {
        "id": "EmzeThtJyXmR"
      },
      "source": [
        "import random\n",
        "\n",
        "random.shuffle(training_Data)"
      ],
      "execution_count": 12,
      "outputs": []
    },
    {
      "cell_type": "code",
      "metadata": {
        "id": "Ck14ofL6ycU3"
      },
      "source": [
        "x=[]\n",
        "y=[]\n",
        "\n",
        "for features,label in training_Data:\n",
        "    x.append(features)\n",
        "    y.append(label)\n",
        "    \n",
        "x=np.array(x).reshape(-1,img_size,img_size,3)  #converting into 4 dimension"
      ],
      "execution_count": 13,
      "outputs": []
    },
    {
      "cell_type": "code",
      "metadata": {
        "id": "7U-5xtx4ygW7"
      },
      "source": [
        "y=np.array(y)"
      ],
      "execution_count": 14,
      "outputs": []
    },
    {
      "cell_type": "code",
      "metadata": {
        "id": "AHg2m4grykFA"
      },
      "source": [
        "from tensorflow import keras\n",
        "from tensorflow.keras import layers"
      ],
      "execution_count": 15,
      "outputs": []
    },
    {
      "cell_type": "code",
      "metadata": {
        "colab": {
          "base_uri": "https://localhost:8080/"
        },
        "id": "P0ZWTH91ypGr",
        "outputId": "70943f1d-a767-4ff6-963c-39bfa107e4bd"
      },
      "source": [
        "model=tf.keras.applications.MobileNetV2()  #pretrain model"
      ],
      "execution_count": 16,
      "outputs": [
        {
          "output_type": "stream",
          "text": [
            "Downloading data from https://storage.googleapis.com/tensorflow/keras-applications/mobilenet_v2/mobilenet_v2_weights_tf_dim_ordering_tf_kernels_1.0_224.h5\n",
            "14540800/14536120 [==============================] - 0s 0us/step\n"
          ],
          "name": "stdout"
        }
      ]
    },
    {
      "cell_type": "code",
      "metadata": {
        "id": "--j_fQZXytEF"
      },
      "source": [
        "base_input = model.layers[0].input"
      ],
      "execution_count": 17,
      "outputs": []
    },
    {
      "cell_type": "code",
      "metadata": {
        "id": "cb5v3ls2y0pi"
      },
      "source": [
        "base_output=model.layers[-2].output"
      ],
      "execution_count": 18,
      "outputs": []
    },
    {
      "cell_type": "code",
      "metadata": {
        "id": "Klf1PgYly35J"
      },
      "source": [
        "final_output = layers.Dense(128)(base_output)\n",
        "final_output = layers.Activation('relu')(final_output)\n",
        "final_output = layers.Dense(64)(final_output)\n",
        "final_output = layers.Activation('relu')(final_output)\n",
        "final_output = layers.Dense(7,activation='softmax')(final_output)"
      ],
      "execution_count": 19,
      "outputs": []
    },
    {
      "cell_type": "code",
      "metadata": {
        "id": "88KUtA2Yy8gk"
      },
      "source": [
        "new_model = keras.Model(inputs=base_input,outputs=final_output)"
      ],
      "execution_count": 20,
      "outputs": []
    },
    {
      "cell_type": "code",
      "metadata": {
        "id": "yvcBAb5MzHR0"
      },
      "source": [
        "new_model.compile(loss='sparse_categorical_crossentropy',optimizer='adam',metrics=['accuracy'])"
      ],
      "execution_count": 21,
      "outputs": []
    },
    {
      "cell_type": "code",
      "metadata": {
        "colab": {
          "base_uri": "https://localhost:8080/"
        },
        "id": "ioxANtfuzImM",
        "outputId": "ee3f152a-0fda-4888-af24-cc9d2277f4a0"
      },
      "source": [
        "new_model.fit(x,y,epochs=2)"
      ],
      "execution_count": 22,
      "outputs": [
        {
          "output_type": "stream",
          "text": [
            "Epoch 1/2\n",
            "5/5 [==============================] - 37s 513ms/step - loss: 2.1360 - accuracy: 0.1214\n",
            "Epoch 2/2\n",
            "5/5 [==============================] - 2s 300ms/step - loss: 1.4545 - accuracy: 0.5714\n"
          ],
          "name": "stdout"
        },
        {
          "output_type": "execute_result",
          "data": {
            "text/plain": [
              "<tensorflow.python.keras.callbacks.History at 0x7f55cda4ed90>"
            ]
          },
          "metadata": {
            "tags": []
          },
          "execution_count": 22
        }
      ]
    },
    {
      "cell_type": "code",
      "metadata": {
        "id": "e3zfp-4U4t49"
      },
      "source": [
        "frame=cv2.imread('/content/Training_531833.jpg')"
      ],
      "execution_count": 29,
      "outputs": []
    },
    {
      "cell_type": "code",
      "metadata": {
        "colab": {
          "base_uri": "https://localhost:8080/",
          "height": 284
        },
        "id": "gm74LLTD4t8F",
        "outputId": "a3d2d08f-8156-4abc-bf8c-8bc2efa12d86"
      },
      "source": [
        "plt.imshow(frame)"
      ],
      "execution_count": 30,
      "outputs": [
        {
          "output_type": "execute_result",
          "data": {
            "text/plain": [
              "<matplotlib.image.AxesImage at 0x7f55703fd290>"
            ]
          },
          "metadata": {
            "tags": []
          },
          "execution_count": 30
        },
        {
          "output_type": "display_data",
          "data": {
            "image/png": "[encoded data removed]",
            "text/plain": [
              "<Figure size 432x288 with 1 Axes>"
            ]
          },
          "metadata": {
            "tags": [],
            "needs_background": "light"
          }
        }
      ]
    },
    {
      "cell_type": "code",
      "metadata": {
        "colab": {
          "base_uri": "https://localhost:8080/",
          "height": 269
        },
        "id": "Zq6UF39-7lvO",
        "outputId": "3ff59228-eb7f-410d-b3fd-7210ef79659e"
      },
      "source": [
        "img_size =224\n",
        "frame1=cv2.resize(frame,(img_size,img_size))\n",
        "plt.imshow(cv2.cvtColor(frame1, cv2.COLOR_BGR2RGB))\n",
        "#plt.imshow(frame1)\n",
        "plt.show()"
      ],
      "execution_count": 39,
      "outputs": [
        {
          "output_type": "display_data",
          "data": {
            "image/png": "[encoded data removed]",
            "text/plain": [
              "<Figure size 432x288 with 1 Axes>"
            ]
          },
          "metadata": {
            "tags": [],
            "needs_background": "light"
          }
        }
      ]
    },
    {
      "cell_type": "code",
      "metadata": {
        "colab": {
          "base_uri": "https://localhost:8080/"
        },
        "id": "Ef-jmRxVD9C1",
        "outputId": "89a3abdb-84b4-4870-f679-93a003b69d39"
      },
      "source": [
        "frame1.shape"
      ],
      "execution_count": 41,
      "outputs": [
        {
          "output_type": "execute_result",
          "data": {
            "text/plain": [
              "(224, 224, 3)"
            ]
          },
          "metadata": {
            "tags": []
          },
          "execution_count": 41
        }
      ]
    },
    {
      "cell_type": "code",
      "metadata": {
        "id": "lgaq0bfnEKEb"
      },
      "source": [
        "frame12=np.array(frame1).reshape(-1,img_size,img_size,3)"
      ],
      "execution_count": 42,
      "outputs": []
    },
    {
      "cell_type": "code",
      "metadata": {
        "id": "_CA_zZU64cH1"
      },
      "source": [
        "what =new_model.predict(frame12)"
      ],
      "execution_count": 43,
      "outputs": []
    },
    {
      "cell_type": "code",
      "metadata": {
        "colab": {
          "base_uri": "https://localhost:8080/"
        },
        "id": "J_t4TYMh5N-x",
        "outputId": "ede53711-e801-47fb-8b27-d2d74ef917c3"
      },
      "source": [
        "what[0]"
      ],
      "execution_count": 44,
      "outputs": [
        {
          "output_type": "execute_result",
          "data": {
            "text/plain": [
              "array([0.05540315, 0.10717826, 0.27004844, 0.00290969, 0.05015653,\n",
              "       0.08576439, 0.42853948], dtype=float32)"
            ]
          },
          "metadata": {
            "tags": []
          },
          "execution_count": 44
        }
      ]
    }
  ]
}